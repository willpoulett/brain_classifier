{
 "cells": [
  {
   "cell_type": "code",
   "execution_count": 1,
   "metadata": {},
   "outputs": [],
   "source": [
    "import os, glob\n",
    "import numpy as np\n",
    "import pandas as pd\n",
    "import matplotlib.pyplot as plt\n",
    "import tensorflow as tf\n",
    "import matplotlib.pyplot as plt\n",
    "import sklearn\n",
    "from sklearn.model_selection import train_test_split\n",
    "from tensorflow import keras\n",
    "from tensorflow.keras.preprocessing import image\n",
    "from keras import utils\n",
    "from sklearn.preprocessing import LabelEncoder\n",
    "import matplotlib.patches as mpatches"
   ]
  },
  {
   "cell_type": "code",
   "execution_count": null,
   "metadata": {},
   "outputs": [],
   "source": []
  },
  {
   "cell_type": "code",
   "execution_count": null,
   "metadata": {},
   "outputs": [],
   "source": [
    "# dir_path points towards where to find the image dataset\n",
    "dir_path = \"brain_tumor_dataset\"\n",
    "IMAGE_SHAPE = (224, 224)\n",
    "MUBA_ITERS = 50\n",
    "\n",
    "random_sample = 1\n",
    "\n",
    "# Read the folders folders\n",
    "directories = os.listdir(dir_path)\n",
    "\n",
    "files = [] \n",
    "labels = []\n",
    "\n",
    "# Read files for each directory\n",
    "for folder in directories:\n",
    "    \n",
    "    fileList = glob.glob(f'{dir_path}/{folder}/*')\n",
    "    labels.extend([folder for _ in fileList])\n",
    "    files.extend(fileList)\n",
    "\n",
    "len(files), len(labels)"
   ]
  },
  {
   "cell_type": "code",
   "execution_count": null,
   "metadata": {},
   "outputs": [],
   "source": [
    "# At this point \"no\" is [1,0] and \"yes\" is [0,1]\n",
    "yes_count = 0\n",
    "for val in labels:\n",
    "    if val == \"yes\":\n",
    "        yes_count += 1\n",
    "print(yes_count)"
   ]
  },
  {
   "cell_type": "code",
   "execution_count": null,
   "metadata": {},
   "outputs": [],
   "source": [
    "# One hot encoding\n",
    "\n",
    "# Encode class values as integers\n",
    "encoder = LabelEncoder()\n",
    "encoder.fit(labels)\n",
    "encoded_Y = encoder.transform(labels)\n",
    "\n",
    "# convert integers to dummy variables (i.e. one hot encoded)\n",
    "dummy_y = utils.to_categorical(encoded_Y,dtype =\"uint8\", num_classes = 2)\n",
    "\n",
    "labels = np.array(dummy_y)\n",
    "\n",
    "print(f\"Classes are {encoder.classes_}\")"
   ]
  },
  {
   "cell_type": "code",
   "execution_count": null,
   "metadata": {},
   "outputs": [],
   "source": [
    "# Split the data into testing, training and validation data\n",
    "# As using a random sample = 100, the testing set is the same as used for the model.\n",
    "# x_train, x_tv, y_train, y_tv = train_test_split(files, labels, test_size=.3, random_state = random_sample)\n",
    "# x_test, x_val, y_test, y_val = train_test_split(x_tv, y_tv, test_size=.5, random_state = random_sample)\n",
    "\n",
    "x_train, x_tv, y_train, y_tv = train_test_split(files, labels, test_size=.5, random_state = random_sample)\n",
    "x_test, x_val, y_test, y_val = train_test_split(x_tv, y_tv, test_size=.4, random_state = random_sample)\n",
    "\n",
    "# x_test, x_waste, y_test, y_waste = train_test_split(x_test, y_test, test_size=.8, random_state = random_sample)"
   ]
  },
  {
   "cell_type": "code",
   "execution_count": null,
   "metadata": {},
   "outputs": [],
   "source": [
    "images = []\n",
    "labels = []\n",
    "\n",
    "print(\"Preparing testing data\")\n",
    "for file, label in zip(x_test, y_test):\n",
    "\n",
    "    # Prepare the image\n",
    "    new_file = image.load_img(file, target_size=IMAGE_SHAPE)\n",
    "    img_array = image.img_to_array(new_file)\n",
    "    # Append to array\n",
    "    images.append(img_array)\n",
    "    labels.append(label)"
   ]
  },
  {
   "cell_type": "code",
   "execution_count": null,
   "metadata": {},
   "outputs": [],
   "source": [
    "# At this point \"no\" is [1,0] and \"yes\" is [0,1]\n",
    "yes_count = 0\n",
    "for val in labels:\n",
    "    if val[1] == 1:\n",
    "        yes_count += 1\n",
    "print(yes_count)"
   ]
  },
  {
   "cell_type": "code",
   "execution_count": null,
   "metadata": {},
   "outputs": [],
   "source": [
    "# At this point \"no\" is [1,0] and \"yes\" is [0,1]"
   ]
  },
  {
   "cell_type": "code",
   "execution_count": null,
   "metadata": {},
   "outputs": [],
   "source": [
    "model = keras.models.load_model(\"lots_of_test_data_2.h5\")\n",
    "\n",
    "# \"best_simple_model_2.h5\" 92% - accidently overide it :( "
   ]
  },
  {
   "cell_type": "code",
   "execution_count": null,
   "metadata": {},
   "outputs": [],
   "source": [
    "basic_results = model.predict(np.stack(images))"
   ]
  },
  {
   "cell_type": "code",
   "execution_count": null,
   "metadata": {},
   "outputs": [],
   "source": [
    "NUM = 14\n",
    "plt.imshow(tf.keras.utils.array_to_img(images[NUM]))\n",
    "print(labels[NUM], labels[NUM][1])\n",
    "print(basic_results[NUM], np.argmax(basic_results[NUM]))\n",
    "# A tumour should have a label of [0,1]\n",
    "# We want a value of 1 for a tumour\n",
    "# Therefore we should use teh second column, index 1"
   ]
  },
  {
   "cell_type": "code",
   "execution_count": null,
   "metadata": {},
   "outputs": [],
   "source": [
    "argmax_preds = [np.argmax(r) for r in basic_results] # 0 if no tumour, 1 if yes tumour\n",
    "labels = [label[1] for label in y_test] # 0 if no tumour, 1 if yes tumour\n",
    "acc = sklearn.metrics.accuracy_score(labels,argmax_preds)"
   ]
  },
  {
   "cell_type": "code",
   "execution_count": null,
   "metadata": {},
   "outputs": [],
   "source": [
    "initial_df = pd.DataFrame()\n",
    "initial_df[\"class\"] = labels # 0 if no tumour, 1 if there is a tumour\n",
    "initial_df[\"image_index\"] = [i for i in range(len(images))]\n",
    "initial_df[\"confidence_class_0\"] = [alpha[0] for alpha in basic_results]\n",
    "initial_df[\"confidence_class_1\"] = [alpha[1] for alpha in basic_results]"
   ]
  },
  {
   "cell_type": "code",
   "execution_count": null,
   "metadata": {},
   "outputs": [],
   "source": [
    "class_zero_df = initial_df[initial_df[\"class\"] == 0] # no tumour\n",
    "class_one_df = initial_df[initial_df[\"class\"] == 1]\n",
    "class_one_length = len(class_one_df)\n",
    "class_zero_length = len(class_zero_df)"
   ]
  },
  {
   "cell_type": "code",
   "execution_count": null,
   "metadata": {},
   "outputs": [],
   "source": [
    "print(class_one_length,class_zero_length)"
   ]
  },
  {
   "cell_type": "code",
   "execution_count": null,
   "metadata": {},
   "outputs": [],
   "source": [
    "muba_df = pd.DataFrame(columns = [\n",
    "                    \"alpha_class_0\",\n",
    "                    \"alpha_class_1\",\n",
    "                    \"image\",\n",
    "                    \"y_value_class_1\",\n",
    "    ])"
   ]
  },
  {
   "cell_type": "code",
   "execution_count": null,
   "metadata": {},
   "outputs": [],
   "source": [
    "# Iterate through NO tumour images\n",
    "for index0, row0 in class_zero_df.iterrows():\n",
    "    \n",
    "    # Iterate through YES tumour images\n",
    "    for index1, row1 in class_one_df.iterrows():\n",
    "\n",
    "        for i in range(MUBA_ITERS):\n",
    "            \n",
    "            # Mixup images\n",
    "            lam = (1/MUBA_ITERS) * np.random.rand() + ( (i) / MUBA_ITERS)\n",
    "            new_img = lam * images[int(row0[\"image_index\"])] + (1 - lam) * images[int(row1[\"image_index\"])]\n",
    "\n",
    "            row = pd.DataFrame([({ \"alpha_class_0\": lam, # row 0 is multiplied by lam\n",
    "                    \"alpha_class_1\": 1-lam,\n",
    "                    \"image\": new_img,\n",
    "                    \"y_value_class_1\": (row1[\"confidence_class_1\"] - row0[\"confidence_class_1\"]) * (1-lam) + row0[\"confidence_class_1\"], # Confidence in yes, there is a tumour\n",
    "                    })])\n",
    "            \n",
    "            \n",
    "            muba_df = pd.concat([muba_df, row],axis=0, ignore_index=True)\n",
    "\n",
    "\n",
    "            \n",
    "\n",
    "\n"
   ]
  },
  {
   "cell_type": "code",
   "execution_count": null,
   "metadata": {},
   "outputs": [],
   "source": [
    "muba_df.head(20)"
   ]
  },
  {
   "cell_type": "code",
   "execution_count": null,
   "metadata": {},
   "outputs": [],
   "source": [
    "#muba_df.head()"
   ]
  },
  {
   "cell_type": "code",
   "execution_count": null,
   "metadata": {},
   "outputs": [],
   "source": [
    "plt.hist(muba_df[\"alpha_class_1\"], bins = 20)"
   ]
  },
  {
   "cell_type": "code",
   "execution_count": null,
   "metadata": {},
   "outputs": [],
   "source": [
    "# Get Predictions\n",
    "result = model.predict(np.stack(muba_df[\"image\"]))\n"
   ]
  },
  {
   "cell_type": "code",
   "execution_count": null,
   "metadata": {},
   "outputs": [],
   "source": [
    "pred_array = [np.argmax(individual_result) for individual_result in result] # 0 is no, 1 is yes"
   ]
  },
  {
   "cell_type": "code",
   "execution_count": null,
   "metadata": {},
   "outputs": [],
   "source": [
    "analysis_df = muba_df.drop('image',axis=1)\n",
    "\n",
    "predictions = pd.DataFrame()\n",
    "predictions[\"pred\"] = pred_array\n",
    "\n",
    "# Merge on predictions\n",
    "analysis_df = analysis_df.join(predictions)\n",
    "boundary_df = pd.DataFrame(columns = [\"alpha\",\"y\"])\n",
    "\n",
    "for i in range(int(len(analysis_df)/MUBA_ITERS)):\n",
    "    # Create a mask to split df in to blocks of 20\n",
    "    mask = (analysis_df.index >= MUBA_ITERS*i) & (analysis_df.index < MUBA_ITERS*i + MUBA_ITERS)\n",
    "    window_df = analysis_df.loc[mask]\n",
    "\n",
    "    # Find the index in which the prediction changes\n",
    "    changing_pred_index = (window_df[\"pred\"].diff()[window_df[\"pred\"].diff() != 0].index.values)\n",
    "    for boundary in changing_pred_index[1:]: # If pred doesn't change will equal 1\n",
    "        row0 = window_df[window_df.index == boundary-1]\n",
    "        row1 = window_df[window_df.index == boundary]\n",
    "        middle_alpha = (row1[\"alpha_class_1\"][boundary] + row0[\"alpha_class_1\"][boundary-1]) / 2\n",
    "        middle_y = row0[\"y_value_class_1\"][boundary-1] + ( (row1[\"y_value_class_1\"][boundary] - row0[\"y_value_class_1\"][boundary-1]) / 2 )\n",
    "        new_row = pd.DataFrame([{\n",
    "            \"alpha\":middle_alpha,\n",
    "            \"y\":middle_y\n",
    "        }])\n",
    "        \n",
    "        boundary_df = pd.concat([boundary_df, new_row], axis=0, ignore_index = True)"
   ]
  },
  {
   "cell_type": "code",
   "execution_count": null,
   "metadata": {},
   "outputs": [],
   "source": [
    "correct_alphas = (analysis_df[analysis_df[\"pred\"] == analysis_df[\"alpha_class_1\"].round()])[\"alpha_class_1\"]\n",
    "incorrect_alphas = (analysis_df[analysis_df[\"pred\"] != analysis_df[\"alpha_class_1\"].round()])[\"alpha_class_1\"]\n",
    "\n"
   ]
  },
  {
   "cell_type": "code",
   "execution_count": null,
   "metadata": {},
   "outputs": [],
   "source": [
    "fig, ax = plt.subplots(3,1,gridspec_kw={'height_ratios': [3, 1,1]}, figsize = (12,10),sharex = True)\n",
    "fig.subplots_adjust(hspace=0.2)\n",
    "\n",
    "ax[0].plot([0,1],[0.5,0.5],color = \"black\", linestyle = \"--\",alpha=0.2)\n",
    "ax[0].scatter(muba_df[\"alpha_class_1\"],muba_df[\"y_value_class_1\"], marker = \".\", alpha = 0.2,color = [\"red\" if x == 1 else \"blue\" for x in predictions[\"pred\"]], label = \"Mixup Images\")\n",
    "ax[0].scatter(initial_df[\"class\"],initial_df[\"confidence_class_1\"], marker = \".\", color = \"black\", label = \"True Images\")\n",
    "ax[0].scatter(boundary_df[\"alpha\"],boundary_df[\"y\"], marker = \".\", color = \"green\")\n",
    "ax[0].set_ylim([-0.05,1.05])\n",
    "\n",
    "# Create a legend with a color box\n",
    "no_patch = mpatches.Patch(color='red', label='MUBA Image - Predicted Yes')\n",
    "yes_patch = mpatches.Patch(color='blue', label='MUBA Image - Predicted No')\n",
    "original_patch = mpatches.Patch(color='black', label='Original Image')\n",
    "middle_patch = mpatches.Patch(color='green', label='Boundary Point')\n",
    "\n",
    "ax[0].legend(handles=[no_patch, yes_patch, original_patch, middle_patch])\n",
    "ax[0].set_ylabel(\"Model Confidence in Predicted 'Yes Tumour' for True Images\")\n",
    "ax[0].text(-0.03,0.5,\"'No Tumour' Cluster\", rotation = \"vertical\", va = \"center\", ha = \"center\")\n",
    "ax[0].text(1.03,0.5,\"'Yes Tumour' Cluster\", rotation = \"vertical\", va = \"center\", ha = \"center\")\n",
    "ax[0].set_title(f\"Model Accuracy - {round(100*acc,2)}%\")\n",
    "\n",
    "# ax.axis(\"off\")\n",
    "ax[1].hist(boundary_df[\"alpha\"],bins=20,color=\"green\")\n",
    "mean = np.mean(boundary_df[\"alpha\"])\n",
    "ax[1].axvline(mean, color = \"black\", linestyle = \"--\", label = f\"Mean = {round(mean,2)}\")\n",
    "ax[1].set_ylabel(\"N\")\n",
    "ax[1].set_title(\"Boundary Distribution Curve\")\n",
    "ax[1].legend()\n",
    "\n",
    "ax[2].hist(incorrect_alphas,bins=20)\n",
    "mean = np.mean(incorrect_alphas)\n",
    "ax[2].axvline(mean, color = \"black\", linestyle = \"--\", label = f\"Mean = {round(mean,2)}\")\n",
    "ax[2].set_xlabel(\"Proportion 'Yes'\")\n",
    "ax[2].set_ylabel(\"N\")\n",
    "ax[2].set_title(\"Error Distribution Curve\")\n",
    "ax[2].legend()"
   ]
  },
  {
   "cell_type": "code",
   "execution_count": null,
   "metadata": {},
   "outputs": [],
   "source": [
    "# Cluster size n and m, total connections is n x m\n"
   ]
  },
  {
   "cell_type": "code",
   "execution_count": 9,
   "metadata": {},
   "outputs": [],
   "source": [
    "cluster_size = [(i+1) for i in range(100)]\n",
    "cluster_size_squared = [i**2 for i in cluster_size]\n",
    "\n",
    "muba_images_5 = [5 * i for i in cluster_size_squared]\n",
    "muba_images_10 = [10 * i for i in cluster_size_squared]\n",
    "muba_images_20 = [20 * i for i in cluster_size_squared]\n",
    "muba_images_50 = [50 * i for i in cluster_size_squared]\n",
    "muba_images_100 = [100 * i for i in cluster_size_squared]"
   ]
  },
  {
   "cell_type": "code",
   "execution_count": 35,
   "metadata": {},
   "outputs": [
    {
     "data": {
      "text/plain": [
       "Text(0.5, 0, 'Number of Mix-Up Images Generated')"
      ]
     },
     "execution_count": 35,
     "metadata": {},
     "output_type": "execute_result"
    },
    {
     "data": {
      "image/png": "[encoded data removed]",
      "text/plain": [
       "<Figure size 640x480 with 1 Axes>"
      ]
     },
     "metadata": {},
     "output_type": "display_data"
    }
   ],
   "source": [
    "fig = plt.figure()\n",
    "ax = fig.add_subplot(1, 1, 1)\n",
    "#ax.set_xscale('log')\n",
    "\n",
    "plt.plot(cluster_size_squared,cluster_size,label = \"1\")\n",
    "plt.plot(muba_images_5,cluster_size,label = \"5\")\n",
    "plt.plot(muba_images_10,cluster_size,label = \"10\")\n",
    "plt.plot(muba_images_20,cluster_size,label = \"20\")\n",
    "plt.plot(muba_images_50,cluster_size,label = \"50\")\n",
    "plt.plot(muba_images_100,cluster_size,label = \"100\")\n",
    "\n",
    "plt.legend(title = \"Mix-Up Images per Pair\")\n",
    "plt.ylabel(\"Images per Binary Class\")\n",
    "plt.xlabel(\"Number of Mix-Up Images Generated\")"
   ]
  }
 ],
 "metadata": {
  "kernelspec": {
   "display_name": "Python 3",
   "language": "python",
   "name": "python3"
  },
  "language_info": {
   "codemirror_mode": {
    "name": "ipython",
    "version": 3
   },
   "file_extension": ".py",
   "mimetype": "text/x-python",
   "name": "python",
   "nbconvert_exporter": "python",
   "pygments_lexer": "ipython3",
   "version": "3.11.3"
  },
  "orig_nbformat": 4
 },
 "nbformat": 4,
 "nbformat_minor": 2
}
